{
 "cells": [
  {
   "cell_type": "code",
   "execution_count": 1,
   "id": "a47b4f74-9853-464b-861f-4b9d62fe07fd",
   "metadata": {},
   "outputs": [
    {
     "name": "stdout",
     "output_type": "stream",
     "text": [
      "Hello Monika\n"
     ]
    }
   ],
   "source": [
    "print(\"Hello Monika\")"
   ]
  },
  {
   "cell_type": "code",
   "execution_count": 2,
   "id": "dec8667e-3ea6-4064-94ab-e07862be9494",
   "metadata": {},
   "outputs": [
    {
     "name": "stdout",
     "output_type": "stream",
     "text": [
      "Hello Nafisa\n"
     ]
    }
   ],
   "source": [
    "print(\"Hello Nafisa\")"
   ]
  },
  {
   "cell_type": "markdown",
   "id": "2e74665e-c20e-4a81-8512-8e0953b1008b",
   "metadata": {},
   "source": [
    "## First Code"
   ]
  },
  {
   "cell_type": "markdown",
   "id": "b1b03a98-d9b2-4f15-8566-0d33c080a43f",
   "metadata": {},
   "source": [
    "- Hello World\n",
    "- Hello Intro to Computer Science"
   ]
  },
  {
   "cell_type": "code",
   "execution_count": 3,
   "id": "1105d706-85e7-4f73-a67a-7da9f9ba9560",
   "metadata": {},
   "outputs": [
    {
     "name": "stdout",
     "output_type": "stream",
     "text": [
      "Hi\n"
     ]
    }
   ],
   "source": [
    "print(\"Hi\")"
   ]
  },
  {
   "cell_type": "code",
   "execution_count": null,
   "id": "01a807d5-8849-44ee-b6be-5bcd09032c55",
   "metadata": {},
   "outputs": [],
   "source": []
  }
 ],
 "metadata": {
  "kernelspec": {
   "display_name": "Python 3 (ipykernel)",
   "language": "python",
   "name": "python3"
  },
  "language_info": {
   "codemirror_mode": {
    "name": "ipython",
    "version": 3
   },
   "file_extension": ".py",
   "mimetype": "text/x-python",
   "name": "python",
   "nbconvert_exporter": "python",
   "pygments_lexer": "ipython3",
   "version": "3.9.7"
  }
 },
 "nbformat": 4,
 "nbformat_minor": 5
}
