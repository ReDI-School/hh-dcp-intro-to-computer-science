{
 "cells": [
  {
   "cell_type": "markdown",
   "id": "1613b3ff",
   "metadata": {},
   "source": [
    "## QR code generator \n",
    "\n",
    "### Process\n",
    "- install all the libraries needed \n",
    "- import the required libraries\n",
    "- create a function that collects a text and converts it to a qrcode \n",
    "- show the qrcode \n",
    "- save the QR code as an image "
   ]
  },
  {
   "cell_type": "markdown",
   "id": "8c579b40",
   "metadata": {},
   "source": [
    "### Libraries needed \n",
    "- qrcode"
   ]
  },
  {
   "cell_type": "code",
   "execution_count": 2,
   "id": "20a35c7b",
   "metadata": {},
   "outputs": [
    {
     "name": "stdout",
     "output_type": "stream",
     "text": [
      "Collecting qrcode\n",
      "  Downloading qrcode-7.4.2-py3-none-any.whl (46 kB)\n",
      "\u001b[2K     \u001b[38;2;114;156;31m━━━━━━━━━━━━━━━━━━━━━━━━━━━━━━━━━━━━━━━\u001b[0m \u001b[32m46.2/46.2 KB\u001b[0m \u001b[31m668.5 kB/s\u001b[0m eta \u001b[36m0:00:00\u001b[0mMB/s\u001b[0m eta \u001b[36m0:00:01\u001b[0m\n",
      "\u001b[?25hCollecting pypng\n",
      "  Downloading pypng-0.20220715.0-py3-none-any.whl (58 kB)\n",
      "\u001b[2K     \u001b[38;2;114;156;31m━━━━━━━━━━━━━━━━━━━━━━━━━━━━━━━━━━━━━━━\u001b[0m \u001b[32m58.1/58.1 KB\u001b[0m \u001b[31m709.6 kB/s\u001b[0m eta \u001b[36m0:00:00\u001b[0m MB/s\u001b[0m eta \u001b[36m0:00:01\u001b[0m\n",
      "\u001b[?25hRequirement already satisfied: typing-extensions in /home/robert/.pyenv/versions/3.10.5/lib/python3.10/site-packages (from qrcode) (4.4.0)\n",
      "Installing collected packages: pypng, qrcode\n",
      "Successfully installed pypng-0.20220715.0 qrcode-7.4.2\n",
      "\u001b[33mWARNING: You are using pip version 22.0.4; however, version 23.1.2 is available.\n",
      "You should consider upgrading via the '/home/robert/.pyenv/versions/3.10.5/bin/python3.10 -m pip install --upgrade pip' command.\u001b[0m\u001b[33m\n",
      "\u001b[0mNote: you may need to restart the kernel to use updated packages.\n"
     ]
    }
   ],
   "source": [
    "%pip install qrcode"
   ]
  },
  {
   "cell_type": "code",
   "execution_count": 5,
   "id": "45cdc0ed",
   "metadata": {},
   "outputs": [
    {
     "name": "stdout",
     "output_type": "stream",
     "text": [
      "Collecting Image\n",
      "  Downloading image-1.5.33.tar.gz (15 kB)\n",
      "  Preparing metadata (setup.py) ... \u001b[?25ldone\n",
      "\u001b[?25hRequirement already satisfied: pillow in /home/robert/.pyenv/versions/3.10.5/lib/python3.10/site-packages (from Image) (9.4.0)\n",
      "Collecting django\n",
      "  Downloading Django-4.2.1-py3-none-any.whl (8.0 MB)\n",
      "\u001b[2K     \u001b[38;2;114;156;31m━━━━━━━━━━━━━━━━━━━━━━━━━━━━━━━━━━━━━━━━\u001b[0m \u001b[32m8.0/8.0 MB\u001b[0m \u001b[31m4.3 MB/s\u001b[0m eta \u001b[36m0:00:00\u001b[0mm eta \u001b[36m0:00:01\u001b[0m0:01\u001b[0m:01\u001b[0m\n",
      "\u001b[?25hRequirement already satisfied: six in /home/robert/.pyenv/versions/3.10.5/lib/python3.10/site-packages (from Image) (1.16.0)\n",
      "Collecting sqlparse>=0.3.1\n",
      "  Downloading sqlparse-0.4.4-py3-none-any.whl (41 kB)\n",
      "\u001b[2K     \u001b[38;2;114;156;31m━━━━━━━━━━━━━━━━━━━━━━━━━━━━━━━━━━━━━━━\u001b[0m \u001b[32m41.2/41.2 KB\u001b[0m \u001b[31m843.5 kB/s\u001b[0m eta \u001b[36m0:00:00\u001b[0mm eta \u001b[36m0:00:01\u001b[0m\n",
      "\u001b[?25hCollecting asgiref<4,>=3.6.0\n",
      "  Downloading asgiref-3.6.0-py3-none-any.whl (23 kB)\n",
      "Building wheels for collected packages: Image\n",
      "  Building wheel for Image (setup.py) ... \u001b[?25ldone\n",
      "\u001b[?25h  Created wheel for Image: filename=image-1.5.33-py2.py3-none-any.whl size=19483 sha256=5fc86865820efe9ccec9929d478225697dee10a8e3ddfa1d3542703bdf91a6e4\n",
      "  Stored in directory: /home/robert/.cache/pip/wheels/70/0c/a4/7cfa53a5c6225c2db2bfec08e782b43d0f25fdae2e995b69be\n",
      "Successfully built Image\n",
      "Installing collected packages: sqlparse, asgiref, django, Image\n",
      "Successfully installed Image-1.5.33 asgiref-3.6.0 django-4.2.1 sqlparse-0.4.4\n",
      "\u001b[33mWARNING: You are using pip version 22.0.4; however, version 23.1.2 is available.\n",
      "You should consider upgrading via the '/home/robert/.pyenv/versions/3.10.5/bin/python3.10 -m pip install --upgrade pip' command.\u001b[0m\u001b[33m\n",
      "\u001b[0mNote: you may need to restart the kernel to use updated packages.\n"
     ]
    }
   ],
   "source": [
    "%pip uninstall Image"
   ]
  },
  {
   "cell_type": "code",
   "execution_count": 13,
   "id": "ad970de5",
   "metadata": {},
   "outputs": [],
   "source": [
    "import qrcode"
   ]
  },
  {
   "cell_type": "code",
   "execution_count": 10,
   "id": "9ce73799",
   "metadata": {},
   "outputs": [],
   "source": [
    "# This function generate a qrcode from a text \n",
    "\n",
    "def create_qrcode(text:str):\n",
    "    \n",
    "    qr = qrcode.QRCode(\n",
    "        version = 1,\n",
    "        error_correction = qrcode.constants.ERROR_CORRECT_L,\n",
    "        box_size = 10,\n",
    "        border = 2)\n",
    "    \n",
    "    qr.add_data(text)\n",
    "    qr.make(fit=True)\n",
    "    \n",
    "    img= qr.make_image(fill_color=\"black\", back_color=\"white\")\n",
    "    \n",
    "    return img"
   ]
  },
  {
   "cell_type": "code",
   "execution_count": 11,
   "id": "6fcfe650",
   "metadata": {},
   "outputs": [],
   "source": [
    "sample_text = \"https://www.askpython.com/python/examples/display-images-using-python\"\n",
    "\n",
    "text_qrcode = create_qrcode(sample_text) "
   ]
  },
  {
   "cell_type": "code",
   "execution_count": 16,
   "id": "a258f0cb",
   "metadata": {},
   "outputs": [],
   "source": [
    "# display the qrcode generated \n",
    "text_qrcode.show()"
   ]
  },
  {
   "cell_type": "code",
   "execution_count": 18,
   "id": "01ff3f06",
   "metadata": {},
   "outputs": [],
   "source": [
    "# save the QR code generated as a image  \n",
    "text_qrcode.save(\"qrcode.png\")"
   ]
  },
  {
   "cell_type": "code",
   "execution_count": null,
   "id": "99df10f6",
   "metadata": {},
   "outputs": [],
   "source": []
  }
 ],
 "metadata": {
  "kernelspec": {
   "display_name": "cartoonizer_env",
   "language": "python",
   "name": "cartoonizer_env"
  },
  "language_info": {
   "codemirror_mode": {
    "name": "ipython",
    "version": 3
   },
   "file_extension": ".py",
   "mimetype": "text/x-python",
   "name": "python",
   "nbconvert_exporter": "python",
   "pygments_lexer": "ipython3",
   "version": "3.10.5"
  }
 },
 "nbformat": 4,
 "nbformat_minor": 5
}
